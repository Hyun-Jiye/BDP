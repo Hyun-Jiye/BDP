{
 "cells": [
  {
   "cell_type": "code",
   "execution_count": null,
   "metadata": {},
   "outputs": [],
   "source": [
    "import requests\n",
    "import pandas as pd\n",
    "import numpy as np\n",
    "from bs4 import BeautifulSoup"
   ]
  },
  {
   "cell_type": "code",
   "execution_count": null,
   "metadata": {},
   "outputs": [],
   "source": [
    "startdates = [20100101, 20110101, 20120101, 20130101, 20140101, 20150101, 20160101, 20170101, 20180101, 20190101]\n",
    "enddates = [20101231, 20111231, 20121231, 20131231, 20141231, 20151231, 20161231, 20171231, 20181231, 20191231]\n",
    "numofrows = 10000\n",
    "pageno = 1\n",
    "year = 2010\n",
    "years = [2010, 2011, 2012, 2013, 2014, 2015, 2016, 2017, 2018, 2019]\n",
    "Animal = {}\n",
    "\n",
    "happendatelist = []\n",
    "desertionnolist = []\n",
    "kindlist = []\n",
    "agelist = []\n",
    "sexlist = []\n",
    "weightlist = []\n",
    "colorlist = []\n",
    "neuterlist = []\n",
    "careaddrlist = []\n",
    "carenamelist = []\n",
    "statelist = []\n",
    "yearlist = []\n"
   ]
  },
  {
   "cell_type": "code",
   "execution_count": null,
   "metadata": {
    "scrolled": true
   },
   "outputs": [],
   "source": [
    "for i in range(0, 10):\n",
    "    startdate = startdates[i]\n",
    "    enddate = enddates[i]\n",
    "    pageno = 1\n",
    "    year = years[i]\n",
    "    \n",
    "    while pageno <= 12:\n",
    "        \n",
    "        url = 'http://openapi.animal.go.kr/openapi/service/rest/abandonmentPublicSrvc/abandonmentPublic?bgnde=' + str(startdate) + '&endde=' + str(enddate) + '&pageNo=' + str(pageno) + '&numOfRows=' + str(numofrows) + '&ServiceKey=Xa9F%2BlohBnyap8Pj%2FHmyDdz%2FozVb5GFsC5z06uWip4HPt7n2yNTwF8UqP3Oq%2F%2Fx2M78iBDteaqxGceksQRSxdA%3D%3D'\n",
    "        req = requests.get(url)\n",
    "        html = req.text\n",
    "        soup = BeautifulSoup(html, 'html.parser')\n",
    "\n",
    "        happendate = soup.select('happenDt')\n",
    "        desertionno = soup.select('desertionNo')\n",
    "        kind = soup.select('kindCd')\n",
    "        age = soup.select('age')\n",
    "        sex = soup.select('sexCd')\n",
    "        weight = soup.select('weight')\n",
    "        color = soup.select('colorCd')\n",
    "        neuter = soup.select('neuterYn')\n",
    "        careaddr = soup.select('careAddr')\n",
    "        carename = soup.select('careNm')\n",
    "        state = soup.select('processState')\n",
    "        \n",
    "        for i in happendate:\n",
    "            happendatelist.append(i.text)\n",
    "            yearlist.append(year)\n",
    "        for i in desertionno:\n",
    "            desertionnolist.append(i.text)\n",
    "        for i in kind:\n",
    "            kindlist.append(i.text)\n",
    "        for i in age:\n",
    "            agelist.append(i.text)\n",
    "        for i in sex:\n",
    "            sexlist.append(i.text)\n",
    "        for i in weight:\n",
    "            weightlist.append(i.text)\n",
    "        for i in color:\n",
    "            colorlist.append(i.text)\n",
    "        for i in neuter:\n",
    "            neuterlist.append(i.text)\n",
    "        for i in careaddr:\n",
    "            careaddrlist.append(i.text)\n",
    "        for i in carename:\n",
    "            carenamelist.append(i.text)\n",
    "        for i in state:\n",
    "            statelist.append(i.text)\n",
    "            \n",
    "        print(url)\n",
    "        pageno += 1\n"
   ]
  },
  {
   "cell_type": "code",
   "execution_count": null,
   "metadata": {},
   "outputs": [],
   "source": [
    "Animal['date'] = happendatelist\n",
    "Animal['no'] = desertionnolist\n",
    "Animal['kind'] = kindlist\n",
    "Animal['age'] = agelist\n",
    "Animal['sex'] = sexlist\n",
    "Animal['weight'] = weightlist\n",
    "Animal['color'] = colorlist\n",
    "Animal['neuter'] = neuterlist\n",
    "Animal['care_address'] = careaddrlist\n",
    "Animal['care_name'] = carenamelist\n",
    "Animal['state'] = statelist\n",
    "Animal['year'] = yearlist\n",
    "\n",
    "df = pd.DataFrame.from_dict(Animal, orient='index')"
   ]
  },
  {
   "cell_type": "code",
   "execution_count": null,
   "metadata": {},
   "outputs": [],
   "source": [
    "animal = np.transpose(df)\n",
    "animal.to_csv(r\"C:\\Users\\Jiye\\Crawling\\animal.csv\", mode='a', header=True, index=False, encoding=\"utf-8\")"
   ]
  },
  {
   "cell_type": "code",
   "execution_count": null,
   "metadata": {},
   "outputs": [],
   "source": []
  }
 ],
 "metadata": {
  "kernelspec": {
   "display_name": "Python 3",
   "language": "python",
   "name": "python3"
  },
  "language_info": {
   "codemirror_mode": {
    "name": "ipython",
    "version": 3
   },
   "file_extension": ".py",
   "mimetype": "text/x-python",
   "name": "python",
   "nbconvert_exporter": "python",
   "pygments_lexer": "ipython3",
   "version": "3.7.4"
  }
 },
 "nbformat": 4,
 "nbformat_minor": 2
}
